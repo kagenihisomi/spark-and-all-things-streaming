{
 "cells": [
  {
   "cell_type": "markdown",
   "metadata": {},
   "source": [
    "# Spark Structured Streaming and Delta Lake\n",
    "\n",
    "Let's stream some data into a Delta Lake table\n"
   ]
  },
  {
   "cell_type": "code",
   "execution_count": 1,
   "metadata": {},
   "outputs": [
    {
     "data": {
      "text/plain": [
       "<pyspark.sql.connect.session.SparkSession at 0x2029952cc20>"
      ]
     },
     "execution_count": 1,
     "metadata": {},
     "output_type": "execute_result"
    }
   ],
   "source": [
    "from pyspark.sql import SparkSession\n",
    "\n",
    "\n",
    "spark: SparkSession = SparkSession.builder.remote(\"sc://localhost:15002\").getOrCreate()\n",
    "\n",
    "\n",
    "spark"
   ]
  },
  {
   "cell_type": "markdown",
   "metadata": {},
   "source": [
    "## Verify that Spark Connect is setup correctly\n",
    "Executing a hello world of dataframes"
   ]
  },
  {
   "cell_type": "code",
   "execution_count": 2,
   "metadata": {},
   "outputs": [
    {
     "name": "stdout",
     "output_type": "stream",
     "text": [
      "+---+---+-------+----------+-------------------+\n",
      "|  a|  b|      c|         d|                  e|\n",
      "+---+---+-------+----------+-------------------+\n",
      "|  1|2.0|string1|2000-01-01|2000-01-01 01:00:00|\n",
      "|  2|3.0|string2|2000-02-01|2000-01-02 01:00:00|\n",
      "|  4|5.0|string3|2000-03-01|2000-01-03 01:00:00|\n",
      "+---+---+-------+----------+-------------------+\n",
      "\n"
     ]
    }
   ],
   "source": [
    "from datetime import datetime, date\n",
    "from pyspark.sql import Row\n",
    "\n",
    "df = spark.createDataFrame(\n",
    "    [\n",
    "        Row(a=1, b=2.0, c=\"string1\", d=date(2000, 1, 1), e=datetime(2000, 1, 1, 12, 0)),\n",
    "        Row(a=2, b=3.0, c=\"string2\", d=date(2000, 2, 1), e=datetime(2000, 1, 2, 12, 0)),\n",
    "        Row(a=4, b=5.0, c=\"string3\", d=date(2000, 3, 1), e=datetime(2000, 1, 3, 12, 0)),\n",
    "    ]\n",
    ")\n",
    "df.writeTo(\"local.db.sample_table\").createOrReplace()\n",
    "df.show()"
   ]
  },
  {
   "cell_type": "markdown",
   "metadata": {},
   "source": [
    "## Hello-world \n",
    "\n",
    "Example streaming data\n",
    "\n",
    "https://spark.apache.org/docs/latest/structured-streaming-programming-guide.html\n",
    "\n"
   ]
  },
  {
   "cell_type": "code",
   "execution_count": 14,
   "metadata": {},
   "outputs": [],
   "source": [
    "tableName = \"hello_world_iceberg\"\n",
    "spark.sql(f\"drop table if exists {tableName}\")\n",
    "\n",
    "df = spark.readStream.format(\"rate\").option(\"rowsPerSecond\", 1000000).load()\n",
    "\n",
    "# Write the streaming DataFrame to a table in micro batches\n",
    "query = (\n",
    "    df.writeStream.trigger(processingTime=\"5 seconds\")\n",
    "    .format(\"iceberg\")\n",
    "    .option(\n",
    "        \"checkpointLocation\",\n",
    "        f\"/opt/bitnami/spark/spark-warehouse/_checkpoint/{tableName}\",\n",
    "    )\n",
    "    .toTable(tableName)\n",
    ")\n",
    "import time\n",
    "\n",
    "time.sleep(60)  # Wait for 10 seconds\n",
    "\n",
    "query.stop()"
   ]
  },
  {
   "cell_type": "code",
   "execution_count": 4,
   "metadata": {},
   "outputs": [
    {
     "name": "stdout",
     "output_type": "stream",
     "text": [
      "+--------------------+-----+\n",
      "|           timestamp|value|\n",
      "+--------------------+-----+\n",
      "|2025-03-16 07:11:...| 4940|\n",
      "|2025-03-16 07:11:...| 4944|\n",
      "|2025-03-16 07:11:...| 4948|\n",
      "|2025-03-16 07:11:...| 4952|\n",
      "|2025-03-16 07:11:...| 4956|\n",
      "|2025-03-16 07:11:...| 4960|\n",
      "|2025-03-16 07:11:...| 4964|\n",
      "|2025-03-16 07:11:...| 4968|\n",
      "|2025-03-16 07:11:...| 4972|\n",
      "|2025-03-16 07:11:...| 4976|\n",
      "|2025-03-16 07:11:...| 4980|\n",
      "|2025-03-16 07:11:...| 4984|\n",
      "|2025-03-16 07:11:...| 4988|\n",
      "|2025-03-16 07:11:...| 4890|\n",
      "|2025-03-16 07:11:...| 4894|\n",
      "|2025-03-16 07:11:...| 4898|\n",
      "|2025-03-16 07:11:...| 4902|\n",
      "|2025-03-16 07:11:...| 4906|\n",
      "|2025-03-16 07:11:...| 4910|\n",
      "|2025-03-16 07:11:...| 4914|\n",
      "+--------------------+-----+\n",
      "only showing top 20 rows\n",
      "\n"
     ]
    }
   ],
   "source": [
    "spark.sql(f\"select * from {tableName}\").show()"
   ]
  },
  {
   "cell_type": "markdown",
   "metadata": {},
   "source": [
    "## Let's look at table metadata"
   ]
  },
  {
   "cell_type": "code",
   "execution_count": null,
   "metadata": {},
   "outputs": [
    {
     "name": "stdout",
     "output_type": "stream",
     "text": [
      "+-----------------------+-------------------+-------------------+---------+------------------------------------------------------------------------------------------------------------------------------------+------------------------------------------------------------------------------------------------------------------------------------------------------------------------------------------------------------------------------------------------------------------------------------------------------------------------------------------------------------------------------------------------------------------------------------------------------------------------------------------------------------------------------------------------------------------------------------------------+\n",
      "|committed_at           |snapshot_id        |parent_id          |operation|manifest_list                                                                                                                       |summary                                                                                                                                                                                                                                                                                                                                                                                                                                                                                                                                                                                         |\n",
      "+-----------------------+-------------------+-------------------+---------+------------------------------------------------------------------------------------------------------------------------------------+------------------------------------------------------------------------------------------------------------------------------------------------------------------------------------------------------------------------------------------------------------------------------------------------------------------------------------------------------------------------------------------------------------------------------------------------------------------------------------------------------------------------------------------------------------------------------------------------+\n",
      "|2025-03-16 07:11:31.778|5909004711060789356|NULL               |append   |/opt/bitnami/spark/spark-warehouse/hello_world_iceberg/metadata/snap-5909004711060789356-1-892bdcac-dac3-42eb-a557-9210f5f946cd.avro|{spark.app.id -> app-20250316070847-0000, spark.sql.streaming.epochId -> 5, spark.sql.streaming.queryId -> 6934f2a0-d75d-46d0-97f1-9c02ccde77e2, added-data-files -> 4, added-records -> 4660, added-files-size -> 19503, changed-partition-count -> 1, total-records -> 4660, total-files-size -> 19503, total-data-files -> 4, total-delete-files -> 0, total-position-deletes -> 0, total-equality-deletes -> 0, engine-version -> 3.5.5, app-id -> app-20250316070847-0000, engine-name -> spark, iceberg-version -> Apache Iceberg 1.8.1 (commit 9ce0fcf0af7becf25ad9fc996c3bad2afdcfd33d)}|\n",
      "|2025-03-16 07:11:35.355|4510606389511725921|5909004711060789356|append   |/opt/bitnami/spark/spark-warehouse/hello_world_iceberg/metadata/snap-4510606389511725921-1-c815d16e-160b-46bd-85e4-c9bc09720e52.avro|{spark.app.id -> app-20250316070847-0000, spark.sql.streaming.epochId -> 6, spark.sql.streaming.queryId -> 6934f2a0-d75d-46d0-97f1-9c02ccde77e2, added-data-files -> 4, added-records -> 40, added-files-size -> 3402, changed-partition-count -> 1, total-records -> 4700, total-files-size -> 22905, total-data-files -> 8, total-delete-files -> 0, total-position-deletes -> 0, total-equality-deletes -> 0, engine-version -> 3.5.5, app-id -> app-20250316070847-0000, engine-name -> spark, iceberg-version -> Apache Iceberg 1.8.1 (commit 9ce0fcf0af7becf25ad9fc996c3bad2afdcfd33d)}   |\n",
      "|2025-03-16 07:11:40.312|331076081359237188 |4510606389511725921|append   |/opt/bitnami/spark/spark-warehouse/hello_world_iceberg/metadata/snap-331076081359237188-1-22d4b82b-5a7e-4e80-b219-d5e8456efc99.avro |{spark.app.id -> app-20250316070847-0000, spark.sql.streaming.epochId -> 7, spark.sql.streaming.queryId -> 6934f2a0-d75d-46d0-97f1-9c02ccde77e2, added-data-files -> 4, added-records -> 50, added-files-size -> 3498, changed-partition-count -> 1, total-records -> 4750, total-files-size -> 26403, total-data-files -> 12, total-delete-files -> 0, total-position-deletes -> 0, total-equality-deletes -> 0, engine-version -> 3.5.5, app-id -> app-20250316070847-0000, engine-name -> spark, iceberg-version -> Apache Iceberg 1.8.1 (commit 9ce0fcf0af7becf25ad9fc996c3bad2afdcfd33d)}  |\n",
      "|2025-03-16 07:11:45.27 |1971803701287618616|331076081359237188 |append   |/opt/bitnami/spark/spark-warehouse/hello_world_iceberg/metadata/snap-1971803701287618616-1-c4081a57-2484-4c90-a81b-ad457b027e20.avro|{spark.app.id -> app-20250316070847-0000, spark.sql.streaming.epochId -> 8, spark.sql.streaming.queryId -> 6934f2a0-d75d-46d0-97f1-9c02ccde77e2, added-data-files -> 4, added-records -> 50, added-files-size -> 3476, changed-partition-count -> 1, total-records -> 4800, total-files-size -> 29879, total-data-files -> 16, total-delete-files -> 0, total-position-deletes -> 0, total-equality-deletes -> 0, engine-version -> 3.5.5, app-id -> app-20250316070847-0000, engine-name -> spark, iceberg-version -> Apache Iceberg 1.8.1 (commit 9ce0fcf0af7becf25ad9fc996c3bad2afdcfd33d)}  |\n",
      "|2025-03-16 07:11:50.279|6363767664902396389|1971803701287618616|append   |/opt/bitnami/spark/spark-warehouse/hello_world_iceberg/metadata/snap-6363767664902396389-1-e2983761-58de-47c7-bdc2-41c3a5a538e1.avro|{spark.app.id -> app-20250316070847-0000, spark.sql.streaming.epochId -> 9, spark.sql.streaming.queryId -> 6934f2a0-d75d-46d0-97f1-9c02ccde77e2, added-data-files -> 4, added-records -> 50, added-files-size -> 3476, changed-partition-count -> 1, total-records -> 4850, total-files-size -> 33355, total-data-files -> 20, total-delete-files -> 0, total-position-deletes -> 0, total-equality-deletes -> 0, engine-version -> 3.5.5, app-id -> app-20250316070847-0000, engine-name -> spark, iceberg-version -> Apache Iceberg 1.8.1 (commit 9ce0fcf0af7becf25ad9fc996c3bad2afdcfd33d)}  |\n",
      "+-----------------------+-------------------+-------------------+---------+------------------------------------------------------------------------------------------------------------------------------------+------------------------------------------------------------------------------------------------------------------------------------------------------------------------------------------------------------------------------------------------------------------------------------------------------------------------------------------------------------------------------------------------------------------------------------------------------------------------------------------------------------------------------------------------------------------------------------------------+\n",
      "\n"
     ]
    }
   ],
   "source": [
    "# Describe the table to view metadata, including partitioning\n",
    "spark.sql(f\"select * from {tableName}.snapshots\").show(truncate=False)"
   ]
  },
  {
   "cell_type": "code",
   "execution_count": 9,
   "metadata": {},
   "outputs": [
    {
     "name": "stdout",
     "output_type": "stream",
     "text": [
      "+-------+-------------------------------------------------------------------------------------------------------------------------+-----------+-------+------------+------------------+----------------------+----------------------+-----------------+----------------+----------------------------------------------------------------+----------------------------------------------------------------+------------+-------------+------------+-------------+--------------------+--------------+---------------------+-----------------------------------------------------------------------------------------------------------+\n",
      "|content|file_path                                                                                                                |file_format|spec_id|record_count|file_size_in_bytes|column_sizes          |value_counts          |null_value_counts|nan_value_counts|lower_bounds                                                    |upper_bounds                                                    |key_metadata|split_offsets|equality_ids|sort_order_id|referenced_data_file|content_offset|content_size_in_bytes|readable_metrics                                                                                           |\n",
      "+-------+-------------------------------------------------------------------------------------------------------------------------+-----------+-------+------------+------------------+----------------------+----------------------+-----------------+----------------+----------------------------------------------------------------+----------------------------------------------------------------+------------+-------------+------------+-------------+--------------------+--------------+---------------------+-----------------------------------------------------------------------------------------------------------+\n",
      "|0      |/opt/bitnami/spark/spark-warehouse/hello_world_iceberg/data/00000-19-6934f2a0-d75d-46d0-97f1-9c02ccde77e2-9-00001.parquet|PARQUET    |0      |13          |873               |{1 -> 112, 2 -> 91}   |{1 -> 13, 2 -> 13}    |{1 -> 0, 2 -> 0} |{}              |{1 -> [68 C6 59 62 70 30 06 00], 2 -> [7E 13 00 00 00 00 00 00]}|{1 -> [68 04 A3 62 70 30 06 00], 2 -> [AE 13 00 00 00 00 00 00]}|NULL        |[4]          |NULL        |0            |NULL                |NULL          |NULL                 |{{112, 13, 0, NULL, 2025-03-16 07:11:44.785, 2025-03-16 07:11:49.585}, {91, 13, 0, NULL, 4990, 5038}}      |\n",
      "|0      |/opt/bitnami/spark/spark-warehouse/hello_world_iceberg/data/00001-20-6934f2a0-d75d-46d0-97f1-9c02ccde77e2-9-00001.parquet|PARQUET    |0      |13          |873               |{1 -> 112, 2 -> 91}   |{1 -> 13, 2 -> 13}    |{1 -> 0, 2 -> 0} |{}              |{1 -> [08 4D 5B 62 70 30 06 00], 2 -> [7F 13 00 00 00 00 00 00]}|{1 -> [08 8B A4 62 70 30 06 00], 2 -> [AF 13 00 00 00 00 00 00]}|NULL        |[4]          |NULL        |0            |NULL                |NULL          |NULL                 |{{112, 13, 0, NULL, 2025-03-16 07:11:44.885, 2025-03-16 07:11:49.685}, {91, 13, 0, NULL, 4991, 5039}}      |\n",
      "|0      |/opt/bitnami/spark/spark-warehouse/hello_world_iceberg/data/00002-21-6934f2a0-d75d-46d0-97f1-9c02ccde77e2-9-00001.parquet|PARQUET    |0      |12          |865               |{1 -> 108, 2 -> 87}   |{1 -> 12, 2 -> 12}    |{1 -> 0, 2 -> 0} |{}              |{1 -> [A8 D3 5C 62 70 30 06 00], 2 -> [80 13 00 00 00 00 00 00]}|{1 -> [28 F7 9F 62 70 30 06 00], 2 -> [AC 13 00 00 00 00 00 00]}|NULL        |[4]          |NULL        |0            |NULL                |NULL          |NULL                 |{{108, 12, 0, NULL, 2025-03-16 07:11:44.985, 2025-03-16 07:11:49.385}, {87, 12, 0, NULL, 4992, 5036}}      |\n",
      "|0      |/opt/bitnami/spark/spark-warehouse/hello_world_iceberg/data/00003-22-6934f2a0-d75d-46d0-97f1-9c02ccde77e2-9-00001.parquet|PARQUET    |0      |12          |865               |{1 -> 108, 2 -> 87}   |{1 -> 12, 2 -> 12}    |{1 -> 0, 2 -> 0} |{}              |{1 -> [48 5A 5E 62 70 30 06 00], 2 -> [81 13 00 00 00 00 00 00]}|{1 -> [C8 7D A1 62 70 30 06 00], 2 -> [AD 13 00 00 00 00 00 00]}|NULL        |[4]          |NULL        |0            |NULL                |NULL          |NULL                 |{{108, 12, 0, NULL, 2025-03-16 07:11:45.085, 2025-03-16 07:11:49.485}, {87, 12, 0, NULL, 4993, 5037}}      |\n",
      "|0      |/opt/bitnami/spark/spark-warehouse/hello_world_iceberg/data/00000-15-6934f2a0-d75d-46d0-97f1-9c02ccde77e2-8-00001.parquet|PARQUET    |0      |13          |873               |{1 -> 112, 2 -> 91}   |{1 -> 13, 2 -> 13}    |{1 -> 0, 2 -> 0} |{}              |{1 -> [28 7B 0D 62 70 30 06 00], 2 -> [4C 13 00 00 00 00 00 00]}|{1 -> [28 B9 56 62 70 30 06 00], 2 -> [7C 13 00 00 00 00 00 00]}|NULL        |[4]          |NULL        |0            |NULL                |NULL          |NULL                 |{{112, 13, 0, NULL, 2025-03-16 07:11:39.785, 2025-03-16 07:11:44.585}, {91, 13, 0, NULL, 4940, 4988}}      |\n",
      "|0      |/opt/bitnami/spark/spark-warehouse/hello_world_iceberg/data/00001-16-6934f2a0-d75d-46d0-97f1-9c02ccde77e2-8-00001.parquet|PARQUET    |0      |13          |873               |{1 -> 112, 2 -> 91}   |{1 -> 13, 2 -> 13}    |{1 -> 0, 2 -> 0} |{}              |{1 -> [C8 01 0F 62 70 30 06 00], 2 -> [4D 13 00 00 00 00 00 00]}|{1 -> [C8 3F 58 62 70 30 06 00], 2 -> [7D 13 00 00 00 00 00 00]}|NULL        |[4]          |NULL        |0            |NULL                |NULL          |NULL                 |{{112, 13, 0, NULL, 2025-03-16 07:11:39.885, 2025-03-16 07:11:44.685}, {91, 13, 0, NULL, 4941, 4989}}      |\n",
      "|0      |/opt/bitnami/spark/spark-warehouse/hello_world_iceberg/data/00002-17-6934f2a0-d75d-46d0-97f1-9c02ccde77e2-8-00001.parquet|PARQUET    |0      |12          |865               |{1 -> 108, 2 -> 87}   |{1 -> 12, 2 -> 12}    |{1 -> 0, 2 -> 0} |{}              |{1 -> [68 88 10 62 70 30 06 00], 2 -> [4E 13 00 00 00 00 00 00]}|{1 -> [E8 AB 53 62 70 30 06 00], 2 -> [7A 13 00 00 00 00 00 00]}|NULL        |[4]          |NULL        |0            |NULL                |NULL          |NULL                 |{{108, 12, 0, NULL, 2025-03-16 07:11:39.985, 2025-03-16 07:11:44.385}, {87, 12, 0, NULL, 4942, 4986}}      |\n",
      "|0      |/opt/bitnami/spark/spark-warehouse/hello_world_iceberg/data/00003-18-6934f2a0-d75d-46d0-97f1-9c02ccde77e2-8-00001.parquet|PARQUET    |0      |12          |865               |{1 -> 108, 2 -> 87}   |{1 -> 12, 2 -> 12}    |{1 -> 0, 2 -> 0} |{}              |{1 -> [08 0F 12 62 70 30 06 00], 2 -> [4F 13 00 00 00 00 00 00]}|{1 -> [88 32 55 62 70 30 06 00], 2 -> [7B 13 00 00 00 00 00 00]}|NULL        |[4]          |NULL        |0            |NULL                |NULL          |NULL                 |{{108, 12, 0, NULL, 2025-03-16 07:11:40.085, 2025-03-16 07:11:44.485}, {87, 12, 0, NULL, 4943, 4987}}      |\n",
      "|0      |/opt/bitnami/spark/spark-warehouse/hello_world_iceberg/data/00000-11-6934f2a0-d75d-46d0-97f1-9c02ccde77e2-7-00001.parquet|PARQUET    |0      |13          |879               |{1 -> 118, 2 -> 91}   |{1 -> 13, 2 -> 13}    |{1 -> 0, 2 -> 0} |{}              |{1 -> [E8 2F C1 61 70 30 06 00], 2 -> [1A 13 00 00 00 00 00 00]}|{1 -> [E8 6D 0A 62 70 30 06 00], 2 -> [4A 13 00 00 00 00 00 00]}|NULL        |[4]          |NULL        |0            |NULL                |NULL          |NULL                 |{{118, 13, 0, NULL, 2025-03-16 07:11:34.785, 2025-03-16 07:11:39.585}, {91, 13, 0, NULL, 4890, 4938}}      |\n",
      "|0      |/opt/bitnami/spark/spark-warehouse/hello_world_iceberg/data/00001-12-6934f2a0-d75d-46d0-97f1-9c02ccde77e2-7-00001.parquet|PARQUET    |0      |13          |879               |{1 -> 118, 2 -> 91}   |{1 -> 13, 2 -> 13}    |{1 -> 0, 2 -> 0} |{}              |{1 -> [88 B6 C2 61 70 30 06 00], 2 -> [1B 13 00 00 00 00 00 00]}|{1 -> [88 F4 0B 62 70 30 06 00], 2 -> [4B 13 00 00 00 00 00 00]}|NULL        |[4]          |NULL        |0            |NULL                |NULL          |NULL                 |{{118, 13, 0, NULL, 2025-03-16 07:11:34.885, 2025-03-16 07:11:39.685}, {91, 13, 0, NULL, 4891, 4939}}      |\n",
      "|0      |/opt/bitnami/spark/spark-warehouse/hello_world_iceberg/data/00002-13-6934f2a0-d75d-46d0-97f1-9c02ccde77e2-7-00001.parquet|PARQUET    |0      |12          |870               |{1 -> 113, 2 -> 87}   |{1 -> 12, 2 -> 12}    |{1 -> 0, 2 -> 0} |{}              |{1 -> [28 3D C4 61 70 30 06 00], 2 -> [1C 13 00 00 00 00 00 00]}|{1 -> [A8 60 07 62 70 30 06 00], 2 -> [48 13 00 00 00 00 00 00]}|NULL        |[4]          |NULL        |0            |NULL                |NULL          |NULL                 |{{113, 12, 0, NULL, 2025-03-16 07:11:34.985, 2025-03-16 07:11:39.385}, {87, 12, 0, NULL, 4892, 4936}}      |\n",
      "|0      |/opt/bitnami/spark/spark-warehouse/hello_world_iceberg/data/00003-14-6934f2a0-d75d-46d0-97f1-9c02ccde77e2-7-00001.parquet|PARQUET    |0      |12          |870               |{1 -> 113, 2 -> 87}   |{1 -> 12, 2 -> 12}    |{1 -> 0, 2 -> 0} |{}              |{1 -> [C8 C3 C5 61 70 30 06 00], 2 -> [1D 13 00 00 00 00 00 00]}|{1 -> [48 E7 08 62 70 30 06 00], 2 -> [49 13 00 00 00 00 00 00]}|NULL        |[4]          |NULL        |0            |NULL                |NULL          |NULL                 |{{113, 12, 0, NULL, 2025-03-16 07:11:35.085, 2025-03-16 07:11:39.485}, {87, 12, 0, NULL, 4893, 4937}}      |\n",
      "|0      |/opt/bitnami/spark/spark-warehouse/hello_world_iceberg/data/00000-7-6934f2a0-d75d-46d0-97f1-9c02ccde77e2-6-00001.parquet |PARQUET    |0      |10          |849               |{1 -> 98, 2 -> 81}    |{1 -> 10, 2 -> 10}    |{1 -> 0, 2 -> 0} |{}              |{1 -> [E8 26 84 61 70 30 06 00], 2 -> [F2 12 00 00 00 00 00 00]}|{1 -> [68 15 BB 61 70 30 06 00], 2 -> [16 13 00 00 00 00 00 00]}|NULL        |[4]          |NULL        |0            |NULL                |NULL          |NULL                 |{{98, 10, 0, NULL, 2025-03-16 07:11:30.785, 2025-03-16 07:11:34.385}, {81, 10, 0, NULL, 4850, 4886}}       |\n",
      "|0      |/opt/bitnami/spark/spark-warehouse/hello_world_iceberg/data/00001-8-6934f2a0-d75d-46d0-97f1-9c02ccde77e2-6-00001.parquet |PARQUET    |0      |10          |851               |{1 -> 99, 2 -> 82}    |{1 -> 10, 2 -> 10}    |{1 -> 0, 2 -> 0} |{}              |{1 -> [88 AD 85 61 70 30 06 00], 2 -> [F3 12 00 00 00 00 00 00]}|{1 -> [08 9C BC 61 70 30 06 00], 2 -> [17 13 00 00 00 00 00 00]}|NULL        |[4]          |NULL        |0            |NULL                |NULL          |NULL                 |{{99, 10, 0, NULL, 2025-03-16 07:11:30.885, 2025-03-16 07:11:34.485}, {82, 10, 0, NULL, 4851, 4887}}       |\n",
      "|0      |/opt/bitnami/spark/spark-warehouse/hello_world_iceberg/data/00002-9-6934f2a0-d75d-46d0-97f1-9c02ccde77e2-6-00001.parquet |PARQUET    |0      |10          |851               |{1 -> 99, 2 -> 82}    |{1 -> 10, 2 -> 10}    |{1 -> 0, 2 -> 0} |{}              |{1 -> [28 34 87 61 70 30 06 00], 2 -> [F4 12 00 00 00 00 00 00]}|{1 -> [A8 22 BE 61 70 30 06 00], 2 -> [18 13 00 00 00 00 00 00]}|NULL        |[4]          |NULL        |0            |NULL                |NULL          |NULL                 |{{99, 10, 0, NULL, 2025-03-16 07:11:30.985, 2025-03-16 07:11:34.585}, {82, 10, 0, NULL, 4852, 4888}}       |\n",
      "|0      |/opt/bitnami/spark/spark-warehouse/hello_world_iceberg/data/00003-10-6934f2a0-d75d-46d0-97f1-9c02ccde77e2-6-00001.parquet|PARQUET    |0      |10          |851               |{1 -> 99, 2 -> 82}    |{1 -> 10, 2 -> 10}    |{1 -> 0, 2 -> 0} |{}              |{1 -> [C8 BA 88 61 70 30 06 00], 2 -> [F5 12 00 00 00 00 00 00]}|{1 -> [48 A9 BF 61 70 30 06 00], 2 -> [19 13 00 00 00 00 00 00]}|NULL        |[4]          |NULL        |0            |NULL                |NULL          |NULL                 |{{99, 10, 0, NULL, 2025-03-16 07:11:31.085, 2025-03-16 07:11:34.685}, {82, 10, 0, NULL, 4853, 4889}}       |\n",
      "|0      |/opt/bitnami/spark/spark-warehouse/hello_world_iceberg/data/00000-3-6934f2a0-d75d-46d0-97f1-9c02ccde77e2-5-00001.parquet |PARQUET    |0      |1165        |4875              |{1 -> 3083, 2 -> 1107}|{1 -> 1165, 2 -> 1165}|{1 -> 0, 2 -> 0} |{}              |{1 -> [68 8E BD 45 70 30 06 00], 2 -> [BE 00 00 00 00 00 00 00]}|{1 -> [68 0C 7E 61 70 30 06 00], 2 -> [EE 12 00 00 00 00 00 00]}|NULL        |[4]          |NULL        |0            |NULL                |NULL          |NULL                 |{{3083, 1165, 0, NULL, 2025-03-16 07:03:44.785, 2025-03-16 07:11:30.385}, {1107, 1165, 0, NULL, 190, 4846}}|\n",
      "|0      |/opt/bitnami/spark/spark-warehouse/hello_world_iceberg/data/00001-4-6934f2a0-d75d-46d0-97f1-9c02ccde77e2-5-00001.parquet |PARQUET    |0      |1165        |4880              |{1 -> 3085, 2 -> 1110}|{1 -> 1165, 2 -> 1165}|{1 -> 0, 2 -> 0} |{}              |{1 -> [08 15 BF 45 70 30 06 00], 2 -> [BF 00 00 00 00 00 00 00]}|{1 -> [08 93 7F 61 70 30 06 00], 2 -> [EF 12 00 00 00 00 00 00]}|NULL        |[4]          |NULL        |0            |NULL                |NULL          |NULL                 |{{3085, 1165, 0, NULL, 2025-03-16 07:03:44.885, 2025-03-16 07:11:30.485}, {1110, 1165, 0, NULL, 191, 4847}}|\n",
      "|0      |/opt/bitnami/spark/spark-warehouse/hello_world_iceberg/data/00002-5-6934f2a0-d75d-46d0-97f1-9c02ccde77e2-5-00001.parquet |PARQUET    |0      |1165        |4874              |{1 -> 3084, 2 -> 1105}|{1 -> 1165, 2 -> 1165}|{1 -> 0, 2 -> 0} |{}              |{1 -> [A8 9B C0 45 70 30 06 00], 2 -> [C0 00 00 00 00 00 00 00]}|{1 -> [A8 19 81 61 70 30 06 00], 2 -> [F0 12 00 00 00 00 00 00]}|NULL        |[4]          |NULL        |0            |NULL                |NULL          |NULL                 |{{3084, 1165, 0, NULL, 2025-03-16 07:03:44.985, 2025-03-16 07:11:30.585}, {1105, 1165, 0, NULL, 192, 4848}}|\n",
      "|0      |/opt/bitnami/spark/spark-warehouse/hello_world_iceberg/data/00003-6-6934f2a0-d75d-46d0-97f1-9c02ccde77e2-5-00001.parquet |PARQUET    |0      |1165        |4874              |{1 -> 3083, 2 -> 1106}|{1 -> 1165, 2 -> 1165}|{1 -> 0, 2 -> 0} |{}              |{1 -> [48 22 C2 45 70 30 06 00], 2 -> [C1 00 00 00 00 00 00 00]}|{1 -> [48 A0 82 61 70 30 06 00], 2 -> [F1 12 00 00 00 00 00 00]}|NULL        |[4]          |NULL        |0            |NULL                |NULL          |NULL                 |{{3083, 1165, 0, NULL, 2025-03-16 07:03:45.085, 2025-03-16 07:11:30.685}, {1106, 1165, 0, NULL, 193, 4849}}|\n",
      "+-------+-------------------------------------------------------------------------------------------------------------------------+-----------+-------+------------+------------------+----------------------+----------------------+-----------------+----------------+----------------------------------------------------------------+----------------------------------------------------------------+------------+-------------+------------+-------------+--------------------+--------------+---------------------+-----------------------------------------------------------------------------------------------------------+\n",
      "\n"
     ]
    }
   ],
   "source": [
    "# Describe the table to view metadata, including partitioning\n",
    "spark.sql(f\"select * from {tableName}.files\").show(truncate=False)"
   ]
  }
 ],
 "metadata": {
  "kernelspec": {
   "display_name": "my-streaming-tCkx6OFd-py3.12",
   "language": "python",
   "name": "python3"
  },
  "language_info": {
   "codemirror_mode": {
    "name": "ipython",
    "version": 3
   },
   "file_extension": ".py",
   "mimetype": "text/x-python",
   "name": "python",
   "nbconvert_exporter": "python",
   "pygments_lexer": "ipython3",
   "version": "3.12.7"
  }
 },
 "nbformat": 4,
 "nbformat_minor": 2
}
