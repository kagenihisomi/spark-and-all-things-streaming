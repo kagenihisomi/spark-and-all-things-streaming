{
 "cells": [
  {
   "cell_type": "markdown",
   "metadata": {},
   "source": [
    "# Spark Structured Streaming and Delta Lake\n",
    "\n",
    "Let's stream some data into a Delta Lake table\n"
   ]
  },
  {
   "cell_type": "code",
   "execution_count": 1,
   "metadata": {},
   "outputs": [],
   "source": [
    "from pyspark.sql import SparkSession\n",
    "spark = SparkSession.builder.remote(\"sc://localhost:15002\").getOrCreate()\n",
    "spark"
   ]
  },
  {
   "cell_type": "markdown",
   "metadata": {},
   "source": [
    "## Verify that Spark Connect is setup correctly\n",
    "Executing a hello world of dataframes"
   ]
  },
  {
   "cell_type": "code",
   "execution_count": null,
   "metadata": {},
   "outputs": [],
   "source": [
    "from datetime import datetime, date\n",
    "from pyspark.sql import Row\n",
    "\n",
    "df = spark.createDataFrame([\n",
    "    Row(a=1, b=2., c='string1', d=date(2000, 1, 1), e=datetime(2000, 1, 1, 12, 0)),\n",
    "    Row(a=2, b=3., c='string2', d=date(2000, 2, 1), e=datetime(2000, 1, 2, 12, 0)),\n",
    "    Row(a=4, b=5., c='string3', d=date(2000, 3, 1), e=datetime(2000, 1, 3, 12, 0))\n",
    "])\n",
    "df.show()"
   ]
  },
  {
   "cell_type": "markdown",
   "metadata": {},
   "source": [
    "## Hello-world \n",
    "\n",
    "Example streaming data\n",
    "\n",
    "https://spark.apache.org/docs/latest/structured-streaming-programming-guide.html\n",
    "\n"
   ]
  },
  {
   "cell_type": "code",
   "execution_count": null,
   "metadata": {},
   "outputs": [],
   "source": [
    "tableName = \"hello_my_delta\"\n",
    "spark.sql(f\"drop table if exists {tableName}\")\n",
    "\n",
    "df = spark.readStream.format(\"rate\").option(\"rowsPerSecond\", 10).load()\n",
    "\n",
    "# Write the streaming DataFrame to a table in micro batches\n",
    "query = (\n",
    "    df.writeStream.trigger(processingTime=\"5 seconds\")\n",
    "    .format(\"delta\")\n",
    "    .option(\"checkpointLocation\", f\"/opt/bitnami/spark/checkpoint/{tableName}\")\n",
    "    .toTable(tableName)\n",
    ")\n",
    "import time\n",
    "\n",
    "time.sleep(60)  # Wait for 10 seconds\n",
    "\n",
    "query.stop()"
   ]
  },
  {
   "cell_type": "code",
   "execution_count": null,
   "metadata": {},
   "outputs": [],
   "source": [
    "spark.sql(f'select * from {tableName}').show(truncate=False)"
   ]
  },
  {
   "cell_type": "markdown",
   "metadata": {},
   "source": [
    "## Let's look at table metadata"
   ]
  },
  {
   "cell_type": "code",
   "execution_count": null,
   "metadata": {},
   "outputs": [],
   "source": [
    "# Describe the table to view metadata, including partitioning\n",
    "spark.sql(f\"DESCRIBE DETAIL {tableName}\").show(truncate=False)\n",
    "\n",
    "# Describe the table's history to view active records and other operational metrics\n",
    "spark.sql(f\"DESCRIBE HISTORY {tableName}\").show(truncate=False)\n"
   ]
  },
  {
   "cell_type": "markdown",
   "metadata": {},
   "source": [
    "## Let's compact all these small files"
   ]
  },
  {
   "cell_type": "code",
   "execution_count": null,
   "metadata": {},
   "outputs": [],
   "source": [
    "spark.sql(f\"optimize {tableName}\").show(truncate=False)\n",
    "spark.sql(f\"vacuum {tableName}\").show(truncate=False)"
   ]
  },
  {
   "cell_type": "code",
   "execution_count": null,
   "metadata": {},
   "outputs": [],
   "source": [
    "spark.sql(f\"DESCRIBE DETAIL {tableName}\").show(truncate=False)\n",
    "spark.sql(f\"DESCRIBE HISTORY {tableName}\").show(truncate=False)"
   ]
  }
 ],
 "metadata": {
  "kernelspec": {
   "display_name": "hello-load-testing-tCkx6OFd-py3.11",
   "language": "python",
   "name": "python3"
  },
  "language_info": {
   "codemirror_mode": {
    "name": "ipython",
    "version": 3
   },
   "file_extension": ".py",
   "mimetype": "text/x-python",
   "name": "python",
   "nbconvert_exporter": "python",
   "pygments_lexer": "ipython3",
   "version": "3.11.4"
  }
 },
 "nbformat": 4,
 "nbformat_minor": 2
}
