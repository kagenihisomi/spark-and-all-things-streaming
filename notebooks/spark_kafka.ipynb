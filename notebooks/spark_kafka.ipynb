{
 "cells": [
  {
   "cell_type": "code",
   "execution_count": 16,
   "metadata": {},
   "outputs": [],
   "source": [
    "from pyspark.sql import SparkSession\n",
    "spark = SparkSession.builder.remote(\"sc://localhost:15002\").getOrCreate()\n",
    "spark"
   ]
  },
  {
   "cell_type": "markdown",
   "metadata": {},
   "source": [
    "## Verify that Spark Connect is setup correctly\n",
    "Executing a hello world of dataframes"
   ]
  },
  {
   "cell_type": "code",
   "execution_count": 18,
   "metadata": {},
   "outputs": [
    {
     "name": "stdout",
     "output_type": "stream",
     "text": [
      "+---+---+-------+----------+-------------------+\n",
      "|  a|  b|      c|         d|                  e|\n",
      "+---+---+-------+----------+-------------------+\n",
      "|  1|2.0|string1|2000-01-01|2000-01-01 01:00:00|\n",
      "|  2|3.0|string2|2000-02-01|2000-01-02 01:00:00|\n",
      "|  4|5.0|string3|2000-03-01|2000-01-03 01:00:00|\n",
      "+---+---+-------+----------+-------------------+\n",
      "\n"
     ]
    }
   ],
   "source": [
    "from datetime import datetime, date\n",
    "from pyspark.sql import Row\n",
    "\n",
    "df = spark.createDataFrame([\n",
    "    Row(a=1, b=2., c='string1', d=date(2000, 1, 1), e=datetime(2000, 1, 1, 12, 0)),\n",
    "    Row(a=2, b=3., c='string2', d=date(2000, 2, 1), e=datetime(2000, 1, 2, 12, 0)),\n",
    "    Row(a=4, b=5., c='string3', d=date(2000, 3, 1), e=datetime(2000, 1, 3, 12, 0))\n",
    "])\n",
    "df.show()"
   ]
  },
  {
   "cell_type": "markdown",
   "metadata": {},
   "source": [
    "## Hello world - Stream data to a kafka topic \n",
    "\n",
    "We'll use the rate source to generate a stream of data, and write the data to a Kafka topic.\n",
    "\n",
    "Due to the docker setup, we'll use the host.docker.internal to connect to the kafka broker\n",
    "\n",
    "While we're executing the pyspark code from local, that command is run by the Spark Docker container, so we can use host.docker.internal to connect to the kafka broker.\n",
    "\n",
    "In the Kafka Stack docker-compose.yml file\n",
    "```\n",
    "KAFKA_ADVERTISED_LISTENERS: INTERNAL://kafka1:19092,EXTERNAL://${DOCKER_HOST_IP:-127.0.0.1}:9092,DOCKER://host.docker.internal:29092\n",
    "```\n",
    "The relevant port is 29092\n",
    "\n",
    "Give changing the bootstrap host and port a shot, but know that using localhost:9092 will not work as the \n",
    "\n"
   ]
  },
  {
   "cell_type": "code",
   "execution_count": 24,
   "metadata": {},
   "outputs": [
    {
     "data": {
      "text/plain": [
       "<pyspark.sql.connect.streaming.query.StreamingQuery at 0x1252f4ed750>"
      ]
     },
     "execution_count": 24,
     "metadata": {},
     "output_type": "execute_result"
    }
   ],
   "source": [
    "from pyspark.sql.functions import expr\n",
    "\n",
    "# Define a rate source for streaming queries\n",
    "rateDataFrame = (\n",
    "    spark.readStream.format(\"rate\")\n",
    "    .option(\"rowsPerSecond\", 10)\n",
    "    .load()\n",
    ")\n",
    "\n",
    "# Define the sink for streaming queries, in this case, writing back to Kafka\n",
    "TOPIC_NAME_OUTPUT = \"myOutputTopic\"\n",
    "\n",
    "# \n",
    "BOOTSTRAP_SERVERS = \"host.docker.internal:29092\"\n",
    "\n",
    "kafkaOutput = (\n",
    "    rateDataFrame.selectExpr(\"CAST(value AS STRING) AS value\")\n",
    "    .writeStream.outputMode(\"append\")\n",
    "    .format(\"kafka\")\n",
    "    .option(\"kafka.bootstrap.servers\", BOOTSTRAP_SERVERS)\n",
    "    .option(\"topic\", TOPIC_NAME_OUTPUT)\n",
    "    .option(\"checkpointLocation\", f\"/opt/bitnami/spark/checkpoint/{TOPIC_NAME_OUTPUT}\")\n",
    "    .start()\n",
    ")\n",
    "kafkaOutput"
   ]
  },
  {
   "cell_type": "markdown",
   "metadata": {},
   "source": [
    "## Go to the Conduktor UI and see the data being written to the topic\n",
    "### http://localhost:8080\n",
    "\n",
    "You'll see real time data being written to the kafka topic\n",
    "\n",
    "### Next, we'll read the data from the kafka topic and write it to a Delta Lake table"
   ]
  },
  {
   "cell_type": "code",
   "execution_count": 27,
   "metadata": {},
   "outputs": [
    {
     "data": {
      "text/plain": [
       "<pyspark.sql.connect.streaming.query.StreamingQuery at 0x1252f4eec10>"
      ]
     },
     "execution_count": 27,
     "metadata": {},
     "output_type": "execute_result"
    }
   ],
   "source": [
    "from pyspark.sql.functions import expr\n",
    "\n",
    "tableName = \"my_kafka_delta_table\"\n",
    "SPARK_WAREHOUSE_BASE_CHECKPOINT = f\"/opt/bitnami/spark/spark-warehouse/{tableName}/_checkpoint\"\n",
    "\n",
    "# Define Kafka source for streaming queries\n",
    "kafkaDataFrame = (\n",
    "    spark.readStream.format(\"kafka\")\n",
    "    .option(\"kafka.bootstrap.servers\", BOOTSTRAP_SERVERS)\n",
    "    .option(\"subscribe\", TOPIC_NAME_OUTPUT)\n",
    "    .option(\"startingOffsets\", \"earliest\")\n",
    "    .load()\n",
    ")\n",
    "\n",
    "# Selecting the data and casting the value from Kafka's binary format to string\n",
    "valueDataFrame = kafkaDataFrame.selectExpr(\"CAST(value AS STRING)\")\n",
    "\n",
    "# Define the sink for streaming queries, in this case, a Delta Lake table\n",
    "q1 = (\n",
    "    valueDataFrame.writeStream.outputMode(\"append\")\n",
    "    .trigger(processingTime=\"5 seconds\")\n",
    "    .format(\"delta\")\n",
    "    .option(\"checkpointLocation\", SPARK_WAREHOUSE_BASE_CHECKPOINT)\n",
    "    .toTable(tableName)\n",
    ")\n",
    "q1"
   ]
  },
  {
   "cell_type": "code",
   "execution_count": 30,
   "metadata": {},
   "outputs": [
    {
     "name": "stdout",
     "output_type": "stream",
     "text": [
      "+-----+\n",
      "|value|\n",
      "+-----+\n",
      "|10813|\n",
      "|10816|\n",
      "|10815|\n",
      "|10817|\n",
      "|10818|\n",
      "|10812|\n",
      "|10811|\n",
      "|10819|\n",
      "|10810|\n",
      "|10814|\n",
      "|10825|\n",
      "|10827|\n",
      "|10826|\n",
      "|10828|\n",
      "|10824|\n",
      "|10820|\n",
      "|10829|\n",
      "|10822|\n",
      "|10823|\n",
      "|10821|\n",
      "+-----+\n",
      "only showing top 20 rows\n",
      "\n"
     ]
    }
   ],
   "source": [
    "spark.sql(\"SELECT * FROM my_kafka_delta_table\").show(truncate=False)\n",
    "\n"
   ]
  },
  {
   "cell_type": "markdown",
   "metadata": {},
   "source": [
    "## Let's query the metadata from the Delta Lake table"
   ]
  },
  {
   "cell_type": "code",
   "execution_count": 32,
   "metadata": {},
   "outputs": [
    {
     "name": "stdout",
     "output_type": "stream",
     "text": [
      "+------+------------------------------------+------------------------------------------+-----------+------------------------------------------------------------+----------------------+-----------------------+----------------+--------+-----------+----------+----------------+----------------+------------------------+\n",
      "|format|id                                  |name                                      |description|location                                                    |createdAt             |lastModified           |partitionColumns|numFiles|sizeInBytes|properties|minReaderVersion|minWriterVersion|tableFeatures           |\n",
      "+------+------------------------------------+------------------------------------------+-----------+------------------------------------------------------------+----------------------+-----------------------+----------------+--------+-----------+----------+----------------+----------------+------------------------+\n",
      "|delta |94318b5d-4d84-4eaa-80ac-c4cb750fb21d|spark_catalog.default.my_kafka_delta_table|NULL       |file:/opt/bitnami/spark/spark-warehouse/my_kafka_delta_table|2024-02-17 01:23:57.99|2024-02-17 01:35:41.262|[]              |6       |52993      |{}        |1               |2               |[appendOnly, invariants]|\n",
      "+------+------------------------------------+------------------------------------------+-----------+------------------------------------------------------------+----------------------+-----------------------+----------------+--------+-----------+----------+----------------+----------------+------------------------+\n",
      "\n",
      "+-------+-----------------------+------+--------+----------------+---------------------------------------------------------------------------------------+----+--------+---------+-----------+-----------------+-------------+-------------------------------------------------------------------------------------------------------------------------------------------------------------------------------------------------------------------------------------------+------------+-----------------------------------+\n",
      "|version|timestamp              |userId|userName|operation       |operationParameters                                                                    |job |notebook|clusterId|readVersion|isolationLevel   |isBlindAppend|operationMetrics                                                                                                                                                                                                                           |userMetadata|engineInfo                         |\n",
      "+-------+-----------------------+------+--------+----------------+---------------------------------------------------------------------------------------+----+--------+---------+-----------+-----------------+-------------+-------------------------------------------------------------------------------------------------------------------------------------------------------------------------------------------------------------------------------------------+------------+-----------------------------------+\n",
      "|127    |2024-02-17 01:35:48.092|NULL  |NULL    |STREAMING UPDATE|{outputMode -> Append, queryId -> c101931a-2279-4c8b-9fcc-89b5c0718c53, epochId -> 114}|NULL|NULL    |NULL     |126        |Serializable     |true         |{numRemovedFiles -> 0, numOutputRows -> 50, numOutputBytes -> 676, numAddedFiles -> 1}                                                                                                                                                     |NULL        |Apache-Spark/3.5.0 Delta-Lake/3.1.0|\n",
      "|126    |2024-02-17 01:35:41.262|NULL  |NULL    |STREAMING UPDATE|{outputMode -> Append, queryId -> c101931a-2279-4c8b-9fcc-89b5c0718c53, epochId -> 113}|NULL|NULL    |NULL     |125        |Serializable     |true         |{numRemovedFiles -> 0, numOutputRows -> 50, numOutputBytes -> 669, numAddedFiles -> 1}                                                                                                                                                     |NULL        |Apache-Spark/3.5.0 Delta-Lake/3.1.0|\n",
      "|125    |2024-02-17 01:35:36.241|NULL  |NULL    |STREAMING UPDATE|{outputMode -> Append, queryId -> c101931a-2279-4c8b-9fcc-89b5c0718c53, epochId -> 112}|NULL|NULL    |NULL     |124        |Serializable     |true         |{numRemovedFiles -> 0, numOutputRows -> 40, numOutputBytes -> 642, numAddedFiles -> 1}                                                                                                                                                     |NULL        |Apache-Spark/3.5.0 Delta-Lake/3.1.0|\n",
      "|124    |2024-02-17 01:35:32.241|NULL  |NULL    |STREAMING UPDATE|{outputMode -> Append, queryId -> c101931a-2279-4c8b-9fcc-89b5c0718c53, epochId -> 111}|NULL|NULL    |NULL     |123        |Serializable     |true         |{numRemovedFiles -> 0, numOutputRows -> 40, numOutputBytes -> 631, numAddedFiles -> 1}                                                                                                                                                     |NULL        |Apache-Spark/3.5.0 Delta-Lake/3.1.0|\n",
      "|123    |2024-02-17 01:35:28.158|NULL  |NULL    |STREAMING UPDATE|{outputMode -> Append, queryId -> c101931a-2279-4c8b-9fcc-89b5c0718c53, epochId -> 110}|NULL|NULL    |NULL     |122        |Serializable     |true         |{numRemovedFiles -> 0, numOutputRows -> 40, numOutputBytes -> 629, numAddedFiles -> 1}                                                                                                                                                     |NULL        |Apache-Spark/3.5.0 Delta-Lake/3.1.0|\n",
      "|122    |2024-02-17 01:35:24.239|NULL  |NULL    |STREAMING UPDATE|{outputMode -> Append, queryId -> c101931a-2279-4c8b-9fcc-89b5c0718c53, epochId -> 109}|NULL|NULL    |NULL     |121        |Serializable     |true         |{numRemovedFiles -> 0, numOutputRows -> 100, numOutputBytes -> 876, numAddedFiles -> 1}                                                                                                                                                    |NULL        |Apache-Spark/3.5.0 Delta-Lake/3.1.0|\n",
      "|121    |2024-02-17 01:35:20.32 |NULL  |NULL    |OPTIMIZE        |{predicate -> [], zOrderBy -> [], auto -> true}                                        |NULL|NULL    |NULL     |120        |SnapshotIsolation|false        |{numRemovedFiles -> 10, numRemovedBytes -> 53512, p25FileSize -> 49546, numDeletionVectorsRemoved -> 0, minFileSize -> 49546, numAddedFiles -> 1, maxFileSize -> 49546, p75FileSize -> 49546, p50FileSize -> 49546, numAddedBytes -> 49546}|NULL        |Apache-Spark/3.5.0 Delta-Lake/3.1.0|\n",
      "|120    |2024-02-17 01:35:14.706|NULL  |NULL    |STREAMING UPDATE|{outputMode -> Append, queryId -> c101931a-2279-4c8b-9fcc-89b5c0718c53, epochId -> 108}|NULL|NULL    |NULL     |119        |Serializable     |true         |{numRemovedFiles -> 0, numOutputRows -> 60, numOutputBytes -> 717, numAddedFiles -> 1}                                                                                                                                                     |NULL        |Apache-Spark/3.5.0 Delta-Lake/3.1.0|\n",
      "|119    |2024-02-17 01:35:08.878|NULL  |NULL    |STREAMING UPDATE|{outputMode -> Append, queryId -> c101931a-2279-4c8b-9fcc-89b5c0718c53, epochId -> 107}|NULL|NULL    |NULL     |118        |Serializable     |true         |{numRemovedFiles -> 0, numOutputRows -> 70, numOutputBytes -> 761, numAddedFiles -> 1}                                                                                                                                                     |NULL        |Apache-Spark/3.5.0 Delta-Lake/3.1.0|\n",
      "|118    |2024-02-17 01:35:02.783|NULL  |NULL    |STREAMING UPDATE|{outputMode -> Append, queryId -> c101931a-2279-4c8b-9fcc-89b5c0718c53, epochId -> 106}|NULL|NULL    |NULL     |117        |Serializable     |true         |{numRemovedFiles -> 0, numOutputRows -> 50, numOutputBytes -> 672, numAddedFiles -> 1}                                                                                                                                                     |NULL        |Apache-Spark/3.5.0 Delta-Lake/3.1.0|\n",
      "|117    |2024-02-17 01:34:56.258|NULL  |NULL    |STREAMING UPDATE|{outputMode -> Append, queryId -> c101931a-2279-4c8b-9fcc-89b5c0718c53, epochId -> 105}|NULL|NULL    |NULL     |116        |Serializable     |true         |{numRemovedFiles -> 0, numOutputRows -> 50, numOutputBytes -> 689, numAddedFiles -> 1}                                                                                                                                                     |NULL        |Apache-Spark/3.5.0 Delta-Lake/3.1.0|\n",
      "|116    |2024-02-17 01:34:51.254|NULL  |NULL    |STREAMING UPDATE|{outputMode -> Append, queryId -> c101931a-2279-4c8b-9fcc-89b5c0718c53, epochId -> 104}|NULL|NULL    |NULL     |115        |Serializable     |true         |{numRemovedFiles -> 0, numOutputRows -> 50, numOutputBytes -> 667, numAddedFiles -> 1}                                                                                                                                                     |NULL        |Apache-Spark/3.5.0 Delta-Lake/3.1.0|\n",
      "|115    |2024-02-17 01:34:46.247|NULL  |NULL    |STREAMING UPDATE|{outputMode -> Append, queryId -> c101931a-2279-4c8b-9fcc-89b5c0718c53, epochId -> 103}|NULL|NULL    |NULL     |114        |Serializable     |true         |{numRemovedFiles -> 0, numOutputRows -> 50, numOutputBytes -> 677, numAddedFiles -> 1}                                                                                                                                                     |NULL        |Apache-Spark/3.5.0 Delta-Lake/3.1.0|\n",
      "|114    |2024-02-17 01:34:41.248|NULL  |NULL    |STREAMING UPDATE|{outputMode -> Append, queryId -> c101931a-2279-4c8b-9fcc-89b5c0718c53, epochId -> 102}|NULL|NULL    |NULL     |113        |Serializable     |true         |{numRemovedFiles -> 0, numOutputRows -> 30, numOutputBytes -> 593, numAddedFiles -> 1}                                                                                                                                                     |NULL        |Apache-Spark/3.5.0 Delta-Lake/3.1.0|\n",
      "|113    |2024-02-17 01:34:37.847|NULL  |NULL    |STREAMING UPDATE|{outputMode -> Append, queryId -> c101931a-2279-4c8b-9fcc-89b5c0718c53, epochId -> 101}|NULL|NULL    |NULL     |112        |Serializable     |true         |{numRemovedFiles -> 0, numOutputRows -> 40, numOutputBytes -> 630, numAddedFiles -> 1}                                                                                                                                                     |NULL        |Apache-Spark/3.5.0 Delta-Lake/3.1.0|\n",
      "|112    |2024-02-17 01:34:34.144|NULL  |NULL    |STREAMING UPDATE|{outputMode -> Append, queryId -> c101931a-2279-4c8b-9fcc-89b5c0718c53, epochId -> 100}|NULL|NULL    |NULL     |111        |Serializable     |true         |{numRemovedFiles -> 0, numOutputRows -> 80, numOutputBytes -> 799, numAddedFiles -> 1}                                                                                                                                                     |NULL        |Apache-Spark/3.5.0 Delta-Lake/3.1.0|\n",
      "|111    |2024-02-17 01:34:30.504|NULL  |NULL    |OPTIMIZE        |{predicate -> [], zOrderBy -> [], auto -> true}                                        |NULL|NULL    |NULL     |110        |SnapshotIsolation|false        |{numRemovedFiles -> 10, numRemovedBytes -> 51513, p25FileSize -> 47307, numDeletionVectorsRemoved -> 0, minFileSize -> 47307, numAddedFiles -> 1, maxFileSize -> 47307, p75FileSize -> 47307, p50FileSize -> 47307, numAddedBytes -> 47307}|NULL        |Apache-Spark/3.5.0 Delta-Lake/3.1.0|\n",
      "|110    |2024-02-17 01:34:26.267|NULL  |NULL    |STREAMING UPDATE|{outputMode -> Append, queryId -> c101931a-2279-4c8b-9fcc-89b5c0718c53, epochId -> 99} |NULL|NULL    |NULL     |109        |Serializable     |true         |{numRemovedFiles -> 0, numOutputRows -> 50, numOutputBytes -> 682, numAddedFiles -> 1}                                                                                                                                                     |NULL        |Apache-Spark/3.5.0 Delta-Lake/3.1.0|\n",
      "|109    |2024-02-17 01:34:21.245|NULL  |NULL    |STREAMING UPDATE|{outputMode -> Append, queryId -> c101931a-2279-4c8b-9fcc-89b5c0718c53, epochId -> 98} |NULL|NULL    |NULL     |108        |Serializable     |true         |{numRemovedFiles -> 0, numOutputRows -> 50, numOutputBytes -> 666, numAddedFiles -> 1}                                                                                                                                                     |NULL        |Apache-Spark/3.5.0 Delta-Lake/3.1.0|\n",
      "|108    |2024-02-17 01:34:16.262|NULL  |NULL    |STREAMING UPDATE|{outputMode -> Append, queryId -> c101931a-2279-4c8b-9fcc-89b5c0718c53, epochId -> 97} |NULL|NULL    |NULL     |107        |Serializable     |true         |{numRemovedFiles -> 0, numOutputRows -> 50, numOutputBytes -> 679, numAddedFiles -> 1}                                                                                                                                                     |NULL        |Apache-Spark/3.5.0 Delta-Lake/3.1.0|\n",
      "+-------+-----------------------+------+--------+----------------+---------------------------------------------------------------------------------------+----+--------+---------+-----------+-----------------+-------------+-------------------------------------------------------------------------------------------------------------------------------------------------------------------------------------------------------------------------------------------+------------+-----------------------------------+\n",
      "only showing top 20 rows\n",
      "\n"
     ]
    }
   ],
   "source": [
    "# View Delta Lake table metadata, including details like partitions, active records, etc.\n",
    "# Describe the table to view metadata, including partitioning\n",
    "spark.sql(f\"DESCRIBE DETAIL {tableName}\").show(truncate=False)\n",
    "\n",
    "# Describe the table's history to view active records and other operational metrics\n",
    "spark.sql(f\"DESCRIBE HISTORY {tableName}\").show(truncate=False)\n"
   ]
  }
 ],
 "metadata": {
  "kernelspec": {
   "display_name": "hello-load-testing-tCkx6OFd-py3.11",
   "language": "python",
   "name": "python3"
  },
  "language_info": {
   "codemirror_mode": {
    "name": "ipython",
    "version": 3
   },
   "file_extension": ".py",
   "mimetype": "text/x-python",
   "name": "python",
   "nbconvert_exporter": "python",
   "pygments_lexer": "ipython3",
   "version": "3.11.4"
  }
 },
 "nbformat": 4,
 "nbformat_minor": 2
}
